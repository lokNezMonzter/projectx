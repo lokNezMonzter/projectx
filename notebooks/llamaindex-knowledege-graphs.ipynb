{
 "cells": [
  {
   "cell_type": "code",
   "execution_count": null,
   "id": "34a01094-af72-4314-b0aa-b013890b399c",
   "metadata": {
    "scrolled": true
   },
   "outputs": [],
   "source": [
    "%pip install llama-index-graph-stores-neo4j"
   ]
  },
  {
   "cell_type": "code",
   "execution_count": null,
   "id": "4789daa5-4968-4d11-9dc7-bf9f5ca8b1ed",
   "metadata": {},
   "outputs": [],
   "source": [
    "import nest_asyncio\n",
    "\n",
    "nest_asyncio.apply()"
   ]
  },
  {
   "cell_type": "code",
   "execution_count": null,
   "id": "174d4aea-c2c3-42a7-866a-38a9faa48057",
   "metadata": {},
   "outputs": [],
   "source": [
    "# load environment variables\n",
    "from dotenv import load_dotenv\n",
    "load_dotenv()"
   ]
  },
  {
   "cell_type": "code",
   "execution_count": null,
   "id": "3b25f820-72df-413f-8d0d-8603886d0647",
   "metadata": {},
   "outputs": [],
   "source": [
    "filename = \"/Users/enigma6174/STARTUP/data/pdf/lost_in_the_middle.pdf\"\n",
    "output_dir = \"/Users/enigma6174/STARTUP/data/images\""
   ]
  },
  {
   "cell_type": "markdown",
   "id": "aa81cbcb-17a8-4c47-9c55-418e3b9ff98d",
   "metadata": {},
   "source": [
    "## Partition The Document"
   ]
  },
  {
   "cell_type": "code",
   "execution_count": null,
   "id": "bd5881b2-fa18-4e88-8371-43527fd84073",
   "metadata": {
    "jupyter": {
     "source_hidden": true
    }
   },
   "outputs": [],
   "source": [
    "# import os\n",
    "\n",
    "# from unstructured_client import UnstructuredClient\n",
    "# from unstructured_client.models import operations, shared\n",
    "# from unstructured_client.models.errors import SDKError\n",
    "\n",
    "# # unstructured io serverless client\n",
    "# client = UnstructuredClient(\n",
    "#     api_key_auth=os.environ.get(\"UNSTRUCTURED_IO_API_KEY\"),\n",
    "#     server_url=os.environ.get(\"UNSTRUCTURED_IO_API_URL\")\n",
    "# )\n",
    "\n",
    "# filename = \"/Users/enigma6174/STARTUP/data/pdf/lost_in_the_middle.pdf\"\n",
    "# file = open(filename, \"rb\")\n",
    "\n",
    "# # prepare partition request\n",
    "# request = shared.PartitionParameters(\n",
    "#     files=shared.Files(\n",
    "#         content=file.read(),\n",
    "#         file_name=filename,\n",
    "#     ),\n",
    "#     strategy=\"hi_res\",\n",
    "#     unique_element_ids=True,\n",
    "#     extract_image_block_types=[\"Image\", \"Table\"],\n",
    "# )\n",
    "\n",
    "# # send partition request\n",
    "# try:\n",
    "#     response = client.general.partition(request)\n",
    "# except SDKError as e:\n",
    "#     print(e)"
   ]
  },
  {
   "cell_type": "code",
   "execution_count": null,
   "id": "3c43da13-6e27-49e9-9bd3-4fb4c00abb51",
   "metadata": {},
   "outputs": [],
   "source": [
    "from time import perf_counter\n",
    "from unstructured.partition.pdf import partition_pdf\n",
    "\n",
    "t1 = perf_counter()\n",
    "\n",
    "# partition pdf file\n",
    "elements = partition_pdf(\n",
    "    filename=filename,\n",
    "    strategy=\"hi_res\",\n",
    "    extract_images_in_pdf=True,\n",
    "    extract_image_block_types=[\"Image\", \"Table\"],\n",
    "    extract_image_block_to_payload=False,\n",
    "    extract_image_block_to_output_dir=output_dir\n",
    ")\n",
    "\n",
    "t2 = perf_counter()\n",
    "runtime = t2 - t1\n",
    "print(f\"total runtime: {runtime}\")"
   ]
  },
  {
   "cell_type": "markdown",
   "id": "0a0a95f0-e639-42bf-a639-0d336e6bd2a0",
   "metadata": {},
   "source": [
    "## Chunk The Partitions"
   ]
  },
  {
   "cell_type": "code",
   "execution_count": null,
   "id": "94f5ea78-5459-4fd5-afeb-db2e33a3c820",
   "metadata": {},
   "outputs": [],
   "source": [
    "from unstructured.chunking.title import chunk_by_title\n",
    "\n",
    "# chunk previously partitioned elements\n",
    "chunks = chunk_by_title(\n",
    "    elements,\n",
    "    max_characters=2000,\n",
    "    new_after_n_chars=1500,\n",
    "    overlap=100\n",
    ")"
   ]
  },
  {
   "cell_type": "code",
   "execution_count": null,
   "id": "34982890-0128-4dce-a987-b4fa4a550dff",
   "metadata": {},
   "outputs": [],
   "source": [
    "print(f\"{len(elements)} elements combined into {len(chunks)} chunks\")"
   ]
  },
  {
   "cell_type": "code",
   "execution_count": null,
   "id": "61542897-dd7d-46dd-b4fb-47548fe0b981",
   "metadata": {},
   "outputs": [],
   "source": [
    "from unstructured.staging.base import elements_from_base64_gzipped_json\n",
    "\n",
    "# deserialize gzipped base64 json\n",
    "for chunk in chunks:\n",
    "    metadata = chunk.metadata.to_dict()\n",
    "    print(f\"Element ID: {chunk.id}\")\n",
    "\n",
    "    # deserialization \n",
    "    orig_elements = elements_from_base64_gzipped_json(metadata[\"orig_elements\"])\n",
    "    print(f\"    Uncompressed orig_elements:\")\n",
    "    for orig_element in orig_elements:\n",
    "        print(f\"        {orig_element.category}: {orig_element.text}\")\n",
    "        print(\"\\n\")"
   ]
  },
  {
   "cell_type": "code",
   "execution_count": null,
   "id": "a16911ec-edb3-4cf4-8793-ff8fba81ec60",
   "metadata": {},
   "outputs": [],
   "source": [
    "chunks[0].to_dict()"
   ]
  },
  {
   "cell_type": "markdown",
   "id": "d1b8ced6-6f55-4ab4-8e0b-09b0f4963e50",
   "metadata": {},
   "source": [
    "## Create Documents From Chunks "
   ]
  },
  {
   "cell_type": "code",
   "execution_count": null,
   "id": "b2aa3fb4-f71b-4660-bdd4-866cd32c734f",
   "metadata": {},
   "outputs": [],
   "source": [
    "from llama_index.core import Document\n",
    "from unstructured.staging.base import elements_from_base64_gzipped_json\n",
    "\n",
    "documents = []\n",
    "for chunk in chunks:\n",
    "    metadata = chunk.metadata.to_dict()\n",
    "\n",
    "    # deserialize base64 encoded gzipped json\n",
    "    orig_elements = elements_from_base64_gzipped_json(metadata[\"orig_elements\"])\n",
    "    doc_text = chunk.text # text content for document\n",
    "    doc_id = chunk.id\n",
    "\n",
    "    # iterate over orig_elements; append text components to doc_text\n",
    "    for orig_element in orig_elements:\n",
    "        if orig_element.category == \"NarrativeText\" or orig_element.category == \"ListItem\":\n",
    "            doc_text  = f\"{doc_text}\\n{orig_element.text}\"\n",
    "\n",
    "    # metadata for each llama-index document class\n",
    "    metadata = {\n",
    "        \"file_name\": metadata[\"filename\"],\n",
    "        \"language\": metadata[\"languages\"][0],\n",
    "        \"page_number\": metadata[\"page_number\"]\n",
    "    }\n",
    "\n",
    "    # document\n",
    "    document = Document(\n",
    "        text=doc_text,\n",
    "        doc_id=doc_id,\n",
    "        metadata=metadata,\n",
    "        excluded_llm_metadata_keys=[\"file_name\"]\n",
    "    )\n",
    "    documents.append(document)"
   ]
  },
  {
   "cell_type": "code",
   "execution_count": null,
   "id": "8458d323-5d98-45e0-9aa2-0e098be4f811",
   "metadata": {},
   "outputs": [],
   "source": [
    "len(documents)"
   ]
  },
  {
   "cell_type": "markdown",
   "id": "3b49fd96-39d3-4026-bc8d-23b4027dbece",
   "metadata": {},
   "source": [
    "## Initialize Graph Store And Index"
   ]
  },
  {
   "cell_type": "code",
   "execution_count": null,
   "id": "58aa99d0-359c-4e2d-bde9-1c2747e45d86",
   "metadata": {},
   "outputs": [],
   "source": [
    "import os\n",
    "from llama_index.graph_stores.neo4j import Neo4jPropertyGraphStore\n",
    "\n",
    "graph_store = Neo4jPropertyGraphStore(\n",
    "    username=os.environ.get(\"NEO4J_USERNAME\"),\n",
    "    password=os.environ.get(\"NEO4J_PASSWORD\"),\n",
    "    url=os.environ.get(\"NEO4J_URI\")\n",
    ")"
   ]
  },
  {
   "cell_type": "code",
   "execution_count": null,
   "id": "88f90ad7-7428-423b-aecb-67a00aa5af29",
   "metadata": {},
   "outputs": [],
   "source": [
    "from llama_index.core import PropertyGraphIndex\n",
    "from llama_index.embeddings.openai import OpenAIEmbedding\n",
    "from llama_index.llms.openai import OpenAI\n",
    "from llama_index.core.indices.property_graph import SchemaLLMPathExtractor\n",
    "\n",
    "# create index from property graph store\n",
    "index = PropertyGraphIndex.from_documents(\n",
    "    documents,\n",
    "    embed_model=OpenAIEmbedding(model_name=\"text-embedding-3-small\"),\n",
    "    kg_extractors=[\n",
    "        SchemaLLMPathExtractor(\n",
    "            llm=OpenAI(model=\"gpt-4o\", temperature=0.0)\n",
    "        )\n",
    "    ],\n",
    "    property_graph_store=graph_store,\n",
    "    show_progress=True\n",
    ")"
   ]
  },
  {
   "cell_type": "markdown",
   "id": "4251aafb-17df-4e97-954c-19021428ff1b",
   "metadata": {},
   "source": [
    "## Querying And Retrieval"
   ]
  },
  {
   "cell_type": "code",
   "execution_count": null,
   "id": "bff8062f-7690-4044-9d5d-14fd975a2a44",
   "metadata": {},
   "outputs": [],
   "source": [
    "# simple graph retriever\n",
    "retriever = index.as_retriever(\n",
    "    include_text=False # leave out source text from returned nodes; for demonstration \n",
    ")\n",
    "\n",
    "# test retriever\n",
    "nodes = retriever.retrieve(\"How does changing the location of relevant information affect the performance of LLM?\")\n",
    "\n",
    "for node in nodes:\n",
    "    print(node.text)"
   ]
  },
  {
   "cell_type": "code",
   "execution_count": null,
   "id": "b47bc4be-3f0a-49b4-a3d3-1d7a194d64b0",
   "metadata": {},
   "outputs": [],
   "source": [
    "# build query engine\n",
    "query_engine = index.as_query_engine(include_text=True)\n",
    "\n",
    "# test system\n",
    "response = query_engine.query(\"How does changing the location of relevant information affect the performance of language models?\")\n",
    "print(str(response))"
   ]
  },
  {
   "cell_type": "code",
   "execution_count": null,
   "id": "4b0fde16-4816-4d96-b89a-f6c905eceb1c",
   "metadata": {},
   "outputs": [],
   "source": []
  }
 ],
 "metadata": {
  "kernelspec": {
   "display_name": "Python 3 (ipykernel)",
   "language": "python",
   "name": "python3"
  },
  "language_info": {
   "codemirror_mode": {
    "name": "ipython",
    "version": 3
   },
   "file_extension": ".py",
   "mimetype": "text/x-python",
   "name": "python",
   "nbconvert_exporter": "python",
   "pygments_lexer": "ipython3",
   "version": "3.11.9"
  }
 },
 "nbformat": 4,
 "nbformat_minor": 5
}
